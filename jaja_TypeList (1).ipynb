{
 "cells": [
  {
   "cell_type": "code",
   "execution_count": 2,
   "id": "670088ba-ebe3-43a4-aba3-cc1e846b4552",
   "metadata": {},
   "outputs": [
    {
     "name": "stdout",
     "output_type": "stream",
     "text": [
      "Index List\n",
      "10\n",
      "30\n",
      "50\n",
      "50\n",
      "40\n",
      "10\n",
      "Banyaknya elemen\n",
      "5\n"
     ]
    }
   ],
   "source": [
    "# Dalam Python mirip dengan array normal\n",
    "# Dalam List, elemen tidak diindeks berdasarkan kunci (key) tertentu\n",
    "# Indeks bilangan selalu diawali dari nilai nol (0)\n",
    "# Indeks negatif ditentukan dari arah kanan, dan dimulai dari -1\n",
    "# Bentuk umum: nama_List = [nilai1, nilai2, nilai3,...]\n",
    "\n",
    "#Contoh:\n",
    "list = [10, 20, 30, 40, 50]\n",
    "\n",
    "# Indeks elemen di dalam List berdasarkan posisi\n",
    "print('Index List')\n",
    "print(list[0]) #bernilai 10\n",
    "print(list[2]) #bernilai 30\n",
    "print(list[4]) #bernilai 50\n",
    "print(list[-1]) #bernilai 50\n",
    "print(list[-2]) #bernilai 40\n",
    "print(list[-5]) #bernilai 10\n",
    "print('Banyaknya elemen')\n",
    "print(len(list))"
   ]
  },
  {
   "cell_type": "code",
   "execution_count": 6,
   "id": "5a24c769-a3f5-4777-87d7-bfbb63aa87be",
   "metadata": {},
   "outputs": [
    {
     "name": "stdout",
     "output_type": "stream",
     "text": [
      "Sebelum dipotong:\n",
      "[10, 20, 30, 40, 50]\n",
      "Setelah dipotong:\n",
      "[10, 20, 30, 40]\n",
      "[10]\n",
      "[50]\n",
      "[40, 50]\n"
     ]
    }
   ],
   "source": [
    "#Contoh:\n",
    "list = [10, 20, 30, 40, 50]\n",
    "\n",
    "#Slicing (memotong) elemen di dalam list\n",
    "print('Sebelum dipotong:')\n",
    "print(list)\n",
    "print('Setelah dipotong:')\n",
    "print(list[:-1]) #memotong elemen pertama dari kanan\n",
    "print(list[:1]) #memotong elemen\n",
    "print(list[-1:]) #memotong elemen dari kanan kecuali elemen -1\n",
    "print(list[-2:]) \n",
    "#tugas berikan penjelasan pada slicing"
   ]
  },
  {
   "cell_type": "code",
   "execution_count": 7,
   "id": "dc6f7d8c-048e-428a-935d-c6f3e9796e93",
   "metadata": {},
   "outputs": [
    {
     "name": "stdout",
     "output_type": "stream",
     "text": [
      "Sebelum digabung:\n",
      "[10, 20, 30, 40, 50]\n",
      "Setelah digabung:\n",
      "[10, 20, 30, 40, 50, 600, 700, 800]\n"
     ]
    }
   ],
   "source": [
    "#Contoh:\n",
    "list = [10, 20, 30, 40, 50]\n",
    "\n",
    "# penggabungan elemen list dan membuat daftar list baru\n",
    "print('Sebelum digabung:')\n",
    "print(list)\n",
    "print('Setelah digabung:')\n",
    "print(list + [600, 700, 800])"
   ]
  },
  {
   "cell_type": "code",
   "execution_count": 8,
   "id": "9930cd33-5722-4a9e-924c-5803a1a9c586",
   "metadata": {},
   "outputs": [
    {
     "name": "stdout",
     "output_type": "stream",
     "text": [
      "5\n",
      "30\n",
      "30\n"
     ]
    }
   ],
   "source": [
    "# pengambilan elemen list menggunakan indeks negatif dapat ditentukan dengan formula\n",
    "# List[-n] = List{len(List) = n}\n",
    "\n",
    "#Contoh:\n",
    "list = [10, 20, 30, 40, 50]\n",
    "print(len(list)) # berfungsi untuk mengambil jumlah atau banyaknya elemen dalam list\n",
    "\n",
    "#jika n=-3\n",
    "list[-3]=list[len(list)-3] # = list[2]\n",
    "print(list[-3])\n",
    "print(list[2])\n",
    "\n",
    "# berarti list[-3] = list[2]"
   ]
  },
  {
   "cell_type": "code",
   "execution_count": 9,
   "id": "a724ef90-98ac-41f2-834e-4e8eb2229649",
   "metadata": {},
   "outputs": [
    {
     "name": "stdout",
     "output_type": "stream",
     "text": [
      "[1, 'jeruk', 2, 'Rambutan', 3, 'Durian']\n",
      "1\n",
      "jeruk\n",
      "2\n",
      "Rambutan\n",
      "3\n",
      "Durian\n"
     ]
    }
   ],
   "source": [
    "# Dalam python, nilai elemen di dalam list bisa berasal dari tipe data yang berbeda\n",
    "\n",
    "#Contoh:\n",
    "list = [1, 'jeruk', 2,'Rambutan', 3, 'Durian']\n",
    "# menampilkan elemen dalam list\n",
    "print(list)\n",
    "\n",
    "#index elemen list\n",
    "print(list[0])\n",
    "print(list[1])\n",
    "print(list[2])\n",
    "print(list[3])\n",
    "print(list[4])\n",
    "print(list[5])"
   ]
  },
  {
   "cell_type": "code",
   "execution_count": 10,
   "id": "8ce1fef9-a7cc-41bd-9550-6d9fbc644dfa",
   "metadata": {},
   "outputs": [
    {
     "name": "stdout",
     "output_type": "stream",
     "text": [
      "Jl.Raya kodam\n",
      "Cikarang Selatan\n",
      "17530\n"
     ]
    }
   ],
   "source": [
    "# Nilai elemen dalam list juga dapat berupa list lain\n",
    "# Konsep sama dengan array multidimensional\n",
    "\n",
    "#Contoh:\n",
    "list = [1, 'Takumi', ['Jl.Raya kodam', 'Cikarang Selatan', 17530], '08111374497']\n",
    "print(list[2][0])\n",
    "print(list[2][1])\n",
    "print(list[2][2])"
   ]
  },
  {
   "cell_type": "code",
   "execution_count": 11,
   "id": "f4312928-4350-4a80-b937-d3648db2251b",
   "metadata": {},
   "outputs": [
    {
     "name": "stdout",
     "output_type": "stream",
     "text": [
      "Matriks 3x3\n",
      "[[1, 2, 3], [4, 5, 6], [7, 8, 9]]\n",
      "Mengambil baris ke-2:\n",
      "[4, 5, 6]\n",
      "Mengambil baris ke-2, lalu dapatkan item ke-3 di dalam baris\n",
      "6\n",
      "2\n",
      "4\n",
      "8\n",
      "(2, 4, 8)\n"
     ]
    }
   ],
   "source": [
    "# contoh array multidimensional (nesting) dalam bentuk matriks\n",
    "M = [[1, 2, 3],\n",
    "     [4, 5, 6,],\n",
    "     [7, 8, 9]]\n",
    "print('Matriks 3x3')\n",
    "print(M) # menampilkan baris kedua\n",
    "\n",
    "print('Mengambil baris ke-2:')\n",
    "print(M[1]) # menampilkan baris kedua\n",
    "\n",
    "print('Mengambil baris ke-2, lalu dapatkan item ke-3 di dalam baris')\n",
    "print(M[1][2])\n",
    "print(M[0][1])\n",
    "print(M[1][0])\n",
    "print(M[2][1])\n",
    "Matrix =((M[0][1]), (M[1][0]), (M[2][1]))\n",
    "print(Matrix)"
   ]
  },
  {
   "cell_type": "code",
   "execution_count": 4,
   "id": "ea7bc02d-51f9-4f77-ae28-a0bc45272f07",
   "metadata": {},
   "outputs": [
    {
     "name": "stdout",
     "output_type": "stream",
     "text": [
      "Matriks 3x3:\n",
      "[[1, 2, 3], [4, 5, 6], [7, 8, 9]]\n",
      "Hasil penambahan 1 untuk setiap item di kolom 2\n",
      "[3, 6, 9]\n",
      "Matriks 3x3 sebelum penyaringan data:\n",
      "[[1, 2, 3], [4, 5, 6], [7, 8, 9]]\n",
      "Data matriks yang telah di saring pada kolom ke-2\n",
      "[2, 8]\n",
      "Data matriks yang telah di saring pada kolom ke-1\n",
      "[4]\n",
      "Matriks 3x3:\n",
      "[[1, 2, 3], [4, 5, 6], [7, 8, 9]]\n",
      "bentuk diagonal matriks\n",
      "[1, 5, 9]\n"
     ]
    }
   ],
   "source": [
    "#list comprehension expression\n",
    "\n",
    "#membuat matriks\n",
    "M=[[1, 2, 3],\n",
    "   [4, 5, 6],\n",
    "   [7, 8, 9]]\n",
    "\n",
    "print('Matriks 3x3:')\n",
    "print(M)\n",
    "\n",
    "# Tambahkan 1 untuk setiap item dikolom 2\n",
    "M1 = [row[1]+1 for row in M]\n",
    "print('Hasil penambahan 1 untuk setiap item di kolom 2')\n",
    "print(M1)\n",
    "\n",
    "# Menyaring item data pada matriks\n",
    "print('Matriks 3x3 sebelum penyaringan data:')\n",
    "print(M)\n",
    "M2 = [row[1] for row in M if row[1] %2 == 0]\n",
    "print('Data matriks yang telah di saring pada kolom ke-2')\n",
    "print(M2)\n",
    "\n",
    "M3 = [row[0] for row in M if row[0] %2 == 0]\n",
    "print('Data matriks yang telah di saring pada kolom ke-1')\n",
    "print(M3)\n",
    "\n",
    "# Mengumpulkan diagonal dari matriks\n",
    "print('Matriks 3x3:')\n",
    "print(M)\n",
    "diag =[M[i][i] for i in [0, 1, 2]]\n",
    "print('bentuk diagonal matriks')\n",
    "print(diag)      "
   ]
  },
  {
   "cell_type": "code",
   "execution_count": 6,
   "id": "f9fb8a8d-620f-496f-a496-f7871ffdca17",
   "metadata": {},
   "outputs": [
    {
     "name": "stdout",
     "output_type": "stream",
     "text": [
      "Elemen awal:\n",
      "['Jakarta', 'Bandung', 'semarang']\n",
      "\n",
      "Setelah append():\n",
      "['Jakarta', 'Bandung', 'semarang', 'Surabaya']\n",
      "\n",
      "Setelah insert():\n",
      "['Jakarta', 'Yogyakarta', 'Bandung', 'semarang', 'Surabaya']\n",
      "\n",
      "Setelah extend():\n",
      "['Jakarta', 'Yogyakarta', 'Bandung', 'semarang', 'Surabaya', 'Medan', 'Denpasar']\n"
     ]
    }
   ],
   "source": [
    "# Menambah elemen ke dalam list\n",
    "\n",
    "# membuat list\n",
    "kota = ['Jakarta', 'Bandung', 'semarang']\n",
    "print('Elemen awal:')\n",
    "print(kota)\n",
    "# menggunakan metode append(); untuk menambahkan elemen tunggal di bagian akhir list\n",
    "kota.append('Surabaya')\n",
    "print('\\nSetelah append():')\n",
    "print(kota)\n",
    "# menggunakan metode insert(0; untuk menambahkan elemen tunggal di indeks/posisi tertentu\n",
    "kota.insert(1,'Yogyakarta')\n",
    "print('\\nSetelah insert():')\n",
    "print(kota)\n",
    "\n",
    "# Menggunakan metode extend(); Untuk menyambung atau menggabungkan suatu list dengan list lainnya\n",
    "kota.extend(['Medan', 'Denpasar'])\n",
    "print('\\nSetelah extend():')\n",
    "print(kota)"
   ]
  },
  {
   "cell_type": "code",
   "execution_count": 11,
   "id": "6b9426d7-d6e6-43ed-a1eb-290eface2547",
   "metadata": {},
   "outputs": [
    {
     "name": "stdout",
     "output_type": "stream",
     "text": [
      "Sebelum diubah:\n",
      "['ayam', 'kucing', 'tikus']\n",
      "\n",
      "Setelah diubah:\n",
      "['ayam', 'ular', 'buaya']\n"
     ]
    }
   ],
   "source": [
    "# Mengubah Nilai Elemen di dalam List\n",
    "\n",
    "#membuat List\n",
    "hewan =['ayam', 'kucing', 'tikus']\n",
    "print(\"Sebelum diubah:\")\n",
    "print(hewan)\n",
    "\n",
    "#mengubah nilai elemen List\n",
    "hewan[1]='ular'\n",
    "hewan [-1]='buaya'\n",
    "\n",
    "#menampilkan hasil perubahan \n",
    "print('\\nSetelah diubah:')\n",
    "print(hewan)\n"
   ]
  },
  {
   "cell_type": "code",
   "execution_count": 13,
   "id": "a8f24c5c-15c7-4676-bb58-e0a992a61b97",
   "metadata": {},
   "outputs": [
    {
     "name": "stdout",
     "output_type": "stream",
     "text": [
      "Sebelum dihapus:\n",
      "['Indonesia', 'Singapura', 'Malaysia', 'Thailand', 'Vietnam', 'India']\n",
      "\n",
      "Setelah dihapus dgn metode remove():\n",
      "['Indonesia', 'Malaysia', 'Thailand', 'India']\n",
      "\n",
      "Setelah dihapus dgn metode del[]:\n",
      "['Indonesia', 'India']\n",
      "2\n",
      "0\n"
     ]
    }
   ],
   "source": [
    "#Menghapus Elemen dari List\n",
    "\n",
    "#membuat List\n",
    "negara =['Indonesia', 'Singapura', 'Malaysia', 'Thailand', 'Vietnam', 'India']\n",
    "print('Sebelum dihapus:')\n",
    "print(negara)\n",
    "\n",
    "#menggunakan remove(); menghapus elemen List berdasarkan nilainya\n",
    "#bentuk umum: nama_variabel.remove()\n",
    "negara.remove('Singapura')\n",
    "negara.remove('Vietnam')\n",
    "\n",
    "#menampilkan hasil setelah dihapus dgn metode remove()\n",
    "print('\\nSetelah dihapus dgn metode remove():')\n",
    "print(negara)\n",
    "\n",
    "#menggunakan del[]; menghapus elemen List berdasarkan indeksnya\n",
    "#Bentuk umum: del nama_variabel [indeks]\n",
    "del negara [2]\n",
    "del negara [-2]\n",
    "\n",
    "#menampilkan hasil setelah dihapus dengan metode del []\n",
    "print('\\nSetelah dihapus dgn metode del[]:')\n",
    "print(negara)\n",
    "\n",
    "#menggunakan metode clear(); menghapus seluruh elemen di dalam List\n",
    "print(len(negara))\n",
    "negara.clear()\n",
    "print(len(negara))"
   ]
  },
  {
   "cell_type": "code",
   "execution_count": 14,
   "id": "64ab2b86-ae7e-4b5f-9f5f-291913f05880",
   "metadata": {},
   "outputs": [
    {
     "name": "stdout",
     "output_type": "stream",
     "text": [
      "['pepaya', 'mangga', 'pisang', 'jambu']\n",
      "pepaya berada pada indeks ke-\n",
      "0\n",
      "jambu berada pada indeks ke-\n",
      "3\n"
     ]
    }
   ],
   "source": [
    "#Mencari Elemen di dalam List\n",
    "#menggunakan metode index()\n",
    "#bentuk umum: nama List.index(nilai)\n",
    "\n",
    "#membuat List\n",
    "buah =['pepaya', 'mangga', 'pisang', 'jambu']\n",
    "print(buah)\n",
    "\n",
    "#mencari elemen List\n",
    "#bentuk umum: nama variabel.index('nilai atau elemen yg akan diindeks')\n",
    "print('pepaya berada pada indeks ke-')\n",
    "print(buah.index('pepaya'))\n",
    "print('jambu berada pada indeks ke-')\n",
    "print(buah.index('jambu'))"
   ]
  },
  {
   "cell_type": "code",
   "execution_count": 15,
   "id": "20882027-e923-4965-a1ba-39f0f1e0c5ab",
   "metadata": {},
   "outputs": [
    {
     "name": "stdout",
     "output_type": "stream",
     "text": [
      "Data list awal:\n",
      "['bb', 'aa', 'cc']\n",
      "Setelah di sort:\n",
      "['aa', 'bb', 'cc']\n",
      "Data list:\n",
      "['aa', 'bb', 'cc']\n",
      "Setelah di reverse:\n",
      "['cc', 'bb', 'aa']\n"
     ]
    }
   ],
   "source": [
    "#Menyusun data dalam List menggunakan metode sort() dan reverse()\n",
    "\n",
    "#membuat List\n",
    "L= ['bb', 'aa', 'cc']\n",
    "\n",
    "#menggunakan metode sort()\n",
    "print('Data list awal:')\n",
    "print(L)\n",
    "print('Setelah di sort:')\n",
    "L.sort()\n",
    "print(L)\n",
    "\n",
    "# menggunakan metode reverse()\n",
    "print('Data list:')\n",
    "print(L)\n",
    "print('Setelah di reverse:')\n",
    "L.reverse()\n",
    "print(L)"
   ]
  },
  {
   "cell_type": "code",
   "execution_count": 20,
   "id": "0ab166d1-ff5f-4635-83d9-a002a9706610",
   "metadata": {},
   "outputs": [
    {
     "name": "stdout",
     "output_type": "stream",
     "text": [
      "Data list:\n",
      "['Politeknik', 'Takumi', 'Hebat']\n",
      "Mengulang karakter pada item Takumi sebanyak 2 kali\n",
      "['TT', 'aa', 'kk', 'uu', 'mm', 'ii']\n",
      "['TTT', 'aaa', 'kkk', 'uuu', 'mmm', 'iii']\n"
     ]
    }
   ],
   "source": [
    "#Mengulang karakter dalam sebuah string\n",
    "\n",
    "#membuat List\n",
    "list =['Politeknik', 'Takumi', 'Hebat']\n",
    "print('Data list:')\n",
    "print(list)\n",
    "print('Mengulang karakter pada item Takumi sebanyak 2 kali')\n",
    "doubles =[c * 2 for c in 'Takumi']\n",
    "print(doubles)\n",
    "doubles1 =[c * 3 for c in 'Takumi']\n",
    "print(doubles1)"
   ]
  },
  {
   "cell_type": "code",
   "execution_count": 23,
   "id": "5939f452-f206-43d1-b9d5-21ea5da6112f",
   "metadata": {},
   "outputs": [
    {
     "name": "stdout",
     "output_type": "stream",
     "text": [
      "<class 'tuple'>\n",
      "('Minggu', 'Senin', 'Selasa', 'Rabu', 'Kamis', 'Jumat', 'Sabtu')\n",
      "Minggu\n",
      "Jumat\n"
     ]
    }
   ],
   "source": [
    "# Type Tuple adalah list yang tidak dapat diubah\n",
    "# Tuple sebenarnya mirip dengan array konstan\n",
    "# Bentuk umum Tuple menggunakan tanda kurung: nama tuple = (nilai1, nilai2, nilai3,...)\n",
    "\n",
    "# Contoh:\n",
    "hari =('Minggu', 'Senin', 'Selasa', 'Rabu', 'Kamis', 'Jumat', 'Sabtu')\n",
    "print(type(hari))\n",
    "\n",
    "# Menampilkan hari\n",
    "print(hari)\n",
    "print(hari[0])\n",
    "print(hari[5])\n"
   ]
  },
  {
   "cell_type": "code",
   "execution_count": null,
   "id": "38df54eb-eaae-441a-9a4b-716aeaafd2fe",
   "metadata": {},
   "outputs": [],
   "source": []
  }
 ],
 "metadata": {
  "kernelspec": {
   "display_name": "Python 3 (ipykernel)",
   "language": "python",
   "name": "python3"
  },
  "language_info": {
   "codemirror_mode": {
    "name": "ipython",
    "version": 3
   },
   "file_extension": ".py",
   "mimetype": "text/x-python",
   "name": "python",
   "nbconvert_exporter": "python",
   "pygments_lexer": "ipython3",
   "version": "3.13.5"
  }
 },
 "nbformat": 4,
 "nbformat_minor": 5
}
