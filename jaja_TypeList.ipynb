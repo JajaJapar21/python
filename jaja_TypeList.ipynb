{
 "cells": [
  {
   "cell_type": "code",
   "execution_count": 2,
   "id": "670088ba-ebe3-43a4-aba3-cc1e846b4552",
   "metadata": {},
   "outputs": [
    {
     "name": "stdout",
     "output_type": "stream",
     "text": [
      "Index List\n",
      "10\n",
      "30\n",
      "50\n",
      "50\n",
      "40\n",
      "10\n",
      "Banyaknya elemen\n",
      "5\n"
     ]
    }
   ],
   "source": [
    "# Dalam Python mirip dengan array normal\n",
    "# Dalam List, elemen tidak diindeks berdasarkan kunci (key) tertentu\n",
    "# Indeks bilangan selalu diawali dari nilai nol (0)\n",
    "# Indeks negatif ditentukan dari arah kanan, dan dimulai dari -1\n",
    "# Bentuk umum: nama_List = [nilai1, nilai2, nilai3,...]\n",
    "\n",
    "#Contoh:\n",
    "list = [10, 20, 30, 40, 50]\n",
    "\n",
    "# Indeks elemen di dalam List berdasarkan posisi\n",
    "print('Index List')\n",
    "print(list[0]) #bernilai 10\n",
    "print(list[2]) #bernilai 30\n",
    "print(list[4]) #bernilai 50\n",
    "print(list[-1]) #bernilai 50\n",
    "print(list[-2]) #bernilai 40\n",
    "print(list[-5]) #bernilai 10\n",
    "print('Banyaknya elemen')\n",
    "print(len(list))"
   ]
  },
  {
   "cell_type": "code",
   "execution_count": 6,
   "id": "5a24c769-a3f5-4777-87d7-bfbb63aa87be",
   "metadata": {},
   "outputs": [
    {
     "name": "stdout",
     "output_type": "stream",
     "text": [
      "Sebelum dipotong:\n",
      "[10, 20, 30, 40, 50]\n",
      "Setelah dipotong:\n",
      "[10, 20, 30, 40]\n",
      "[10]\n",
      "[50]\n",
      "[40, 50]\n"
     ]
    }
   ],
   "source": [
    "#Contoh:\n",
    "list = [10, 20, 30, 40, 50]\n",
    "\n",
    "#Slicing (memotong) elemen di dalam list\n",
    "print('Sebelum dipotong:')\n",
    "print(list)\n",
    "print('Setelah dipotong:')\n",
    "print(list[:-1]) #memotong elemen pertama dari kanan\n",
    "print(list[:1]) #memotong elemen\n",
    "print(list[-1:]) #memotong elemen dari kanan kecuali elemen -1\n",
    "print(list[-2:]) \n",
    "#tugas berikan penjelasan pada slicing"
   ]
  },
  {
   "cell_type": "code",
   "execution_count": 7,
   "id": "dc6f7d8c-048e-428a-935d-c6f3e9796e93",
   "metadata": {},
   "outputs": [
    {
     "name": "stdout",
     "output_type": "stream",
     "text": [
      "Sebelum digabung:\n",
      "[10, 20, 30, 40, 50]\n",
      "Setelah digabung:\n",
      "[10, 20, 30, 40, 50, 600, 700, 800]\n"
     ]
    }
   ],
   "source": [
    "#Contoh:\n",
    "list = [10, 20, 30, 40, 50]\n",
    "\n",
    "# penggabungan elemen list dan membuat daftar list baru\n",
    "print('Sebelum digabung:')\n",
    "print(list)\n",
    "print('Setelah digabung:')\n",
    "print(list + [600, 700, 800])"
   ]
  },
  {
   "cell_type": "code",
   "execution_count": 8,
   "id": "9930cd33-5722-4a9e-924c-5803a1a9c586",
   "metadata": {},
   "outputs": [
    {
     "name": "stdout",
     "output_type": "stream",
     "text": [
      "5\n",
      "30\n",
      "30\n"
     ]
    }
   ],
   "source": [
    "# pengambilan elemen list menggunakan indeks negatif dapat ditentukan dengan formula\n",
    "# List[-n] = List{len(List) = n}\n",
    "\n",
    "#Contoh:\n",
    "list = [10, 20, 30, 40, 50]\n",
    "print(len(list)) # berfungsi untuk mengambil jumlah atau banyaknya elemen dalam list\n",
    "\n",
    "#jika n=-3\n",
    "list[-3]=list[len(list)-3] # = list[2]\n",
    "print(list[-3])\n",
    "print(list[2])\n",
    "\n",
    "# berarti list[-3] = list[2]"
   ]
  },
  {
   "cell_type": "code",
   "execution_count": 9,
   "id": "a724ef90-98ac-41f2-834e-4e8eb2229649",
   "metadata": {},
   "outputs": [
    {
     "name": "stdout",
     "output_type": "stream",
     "text": [
      "[1, 'jeruk', 2, 'Rambutan', 3, 'Durian']\n",
      "1\n",
      "jeruk\n",
      "2\n",
      "Rambutan\n",
      "3\n",
      "Durian\n"
     ]
    }
   ],
   "source": [
    "# Dalam python, nilai elemen di dalam list bisa berasal dari tipe data yang berbeda\n",
    "\n",
    "#Contoh:\n",
    "list = [1, 'jeruk', 2,'Rambutan', 3, 'Durian']\n",
    "# menampilkan elemen dalam list\n",
    "print(list)\n",
    "\n",
    "#index elemen list\n",
    "print(list[0])\n",
    "print(list[1])\n",
    "print(list[2])\n",
    "print(list[3])\n",
    "print(list[4])\n",
    "print(list[5])"
   ]
  },
  {
   "cell_type": "code",
   "execution_count": 10,
   "id": "8ce1fef9-a7cc-41bd-9550-6d9fbc644dfa",
   "metadata": {},
   "outputs": [
    {
     "name": "stdout",
     "output_type": "stream",
     "text": [
      "Jl.Raya kodam\n",
      "Cikarang Selatan\n",
      "17530\n"
     ]
    }
   ],
   "source": [
    "# Nilai elemen dalam list juga dapat berupa list lain\n",
    "# Konsep sama dengan array multidimensional\n",
    "\n",
    "#Contoh:\n",
    "list = [1, 'Takumi', ['Jl.Raya kodam', 'Cikarang Selatan', 17530], '08111374497']\n",
    "print(list[2][0])\n",
    "print(list[2][1])\n",
    "print(list[2][2])"
   ]
  },
  {
   "cell_type": "code",
   "execution_count": 11,
   "id": "f4312928-4350-4a80-b937-d3648db2251b",
   "metadata": {},
   "outputs": [
    {
     "name": "stdout",
     "output_type": "stream",
     "text": [
      "Matriks 3x3\n",
      "[[1, 2, 3], [4, 5, 6], [7, 8, 9]]\n",
      "Mengambil baris ke-2:\n",
      "[4, 5, 6]\n",
      "Mengambil baris ke-2, lalu dapatkan item ke-3 di dalam baris\n",
      "6\n",
      "2\n",
      "4\n",
      "8\n",
      "(2, 4, 8)\n"
     ]
    }
   ],
   "source": [
    "# contoh array multidimensional (nesting) dalam bentuk matriks\n",
    "M = [[1, 2, 3],\n",
    "     [4, 5, 6,],\n",
    "     [7, 8, 9]]\n",
    "print('Matriks 3x3')\n",
    "print(M) # menampilkan baris kedua\n",
    "\n",
    "print('Mengambil baris ke-2:')\n",
    "print(M[1]) # menampilkan baris kedua\n",
    "\n",
    "print('Mengambil baris ke-2, lalu dapatkan item ke-3 di dalam baris')\n",
    "print(M[1][2])\n",
    "print(M[0][1])\n",
    "print(M[1][0])\n",
    "print(M[2][1])\n",
    "Matrix =((M[0][1]), (M[1][0]), (M[2][1]))\n",
    "print(Matrix)"
   ]
  },
  {
   "cell_type": "code",
   "execution_count": null,
   "id": "ea7bc02d-51f9-4f77-ae28-a0bc45272f07",
   "metadata": {},
   "outputs": [],
   "source": []
  }
 ],
 "metadata": {
  "kernelspec": {
   "display_name": "Python 3 (ipykernel)",
   "language": "python",
   "name": "python3"
  },
  "language_info": {
   "codemirror_mode": {
    "name": "ipython",
    "version": 3
   },
   "file_extension": ".py",
   "mimetype": "text/x-python",
   "name": "python",
   "nbconvert_exporter": "python",
   "pygments_lexer": "ipython3",
   "version": "3.13.5"
  }
 },
 "nbformat": 4,
 "nbformat_minor": 5
}
