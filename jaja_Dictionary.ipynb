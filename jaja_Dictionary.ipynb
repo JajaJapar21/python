{
 "cells": [
  {
   "cell_type": "code",
   "execution_count": 2,
   "id": "502f6842-a47a-4cd5-9f39-acf4418db99c",
   "metadata": {},
   "outputs": [
    {
     "name": "stdout",
     "output_type": "stream",
     "text": [
      "dic['Dosen']: Eko\n",
      "dic['Prodi']: Mekatronika\n",
      "dic['Kuliah']: python\n"
     ]
    }
   ],
   "source": [
    "#Dalam python, Dictionary disebut juga \"mapping\".Identik dengan array asosiatif\n",
    "#Indeks type string\n",
    "#Type data: 1) key; 2) Value\n",
    "#Bentuk umum: Variabel =(key1:value1, key2:value2)\n",
    "\n",
    "#contoh\n",
    "dic ={'Dosen':'Eko', 'Prodi':'Mekatronika', 'Kuliah':'python'} #buat variabel\n",
    "#menampilkan dictionary:\n",
    "print(\"dic['Dosen']:\", dic['Dosen'])\n",
    "print(\"dic['Prodi']:\", dic['Prodi'])\n",
    "print(\"dic['Kuliah']:\", dic['Kuliah'])\n"
   ]
  },
  {
   "cell_type": "code",
   "execution_count": 4,
   "id": "87b515fe-2d46-49f2-a741-fc04b787cb42",
   "metadata": {},
   "outputs": [
    {
     "name": "stdout",
     "output_type": "stream",
     "text": [
      "Dosen: Eko\n",
      "Prodi: Mekatronika\n",
      "Kuliah: python\n"
     ]
    }
   ],
   "source": [
    "dic ={'Dosen':'Eko', 'Prodi':'Mekatronika', 'Kuliah':'python'} #buat variabel\n",
    "#menampilkan dictionary:\n",
    "print(\"Dosen:\", dic['Dosen'])\n",
    "print(\"Prodi:\", dic['Prodi'])\n",
    "print(\"Kuliah:\", dic['Kuliah'])"
   ]
  },
  {
   "cell_type": "code",
   "execution_count": 5,
   "id": "ff6b1236-427c-4b27-bfec-e88fb79cb25d",
   "metadata": {},
   "outputs": [
    {
     "name": "stdout",
     "output_type": "stream",
     "text": [
      "satu: 5\n",
      "dua: 10\n"
     ]
    }
   ],
   "source": [
    "#variabel dictionary\n",
    "dic ={'satu':5, 'dua':10}\n",
    "\n",
    "#menampilkan dictionary:\n",
    "print(\"satu:\", dic['satu'])\n",
    "print(\"dua:\", dic['dua'])"
   ]
  },
  {
   "cell_type": "code",
   "execution_count": 6,
   "id": "4a0e86d8-171e-42b4-bfe9-eec6097d7b0f",
   "metadata": {},
   "outputs": [
    {
     "name": "stdout",
     "output_type": "stream",
     "text": [
      "dic['satu'] * dic['dua']: 50\n"
     ]
    }
   ],
   "source": [
    "#variabel dictionary\n",
    "dic ={'satu':5, 'dua':10}\n",
    "print(\"dic['satu'] * dic['dua']:\", (dic['satu'] * dic['dua']))"
   ]
  },
  {
   "cell_type": "code",
   "execution_count": 7,
   "id": "8e340bbf-8b72-481a-b9ac-d4ffb7cdb1bd",
   "metadata": {},
   "outputs": [
    {
     "name": "stdout",
     "output_type": "stream",
     "text": [
      "satu: 5\n",
      "dua: 10\n",
      "satu * dua: 50\n",
      "satu + dua: 15\n",
      "dua / satu: 2.0\n"
     ]
    }
   ],
   "source": [
    "#variabel dictionary\n",
    "dic ={'satu':5, 'dua':10}\n",
    "#operasi matematis dictionary\n",
    "print(\"satu:\", dic['satu'])\n",
    "print(\"dua:\", dic['dua'])\n",
    "print(\"satu * dua:\", (dic['satu'] * dic['dua']))\n",
    "print(\"satu + dua:\", (dic['satu'] + dic['dua']))\n",
    "print(\"dua / satu:\", (dic['dua'] / dic['satu']))"
   ]
  },
  {
   "cell_type": "code",
   "execution_count": 8,
   "id": "b0a482a8-28ed-4a4f-8d2e-9f11b2a535ff",
   "metadata": {},
   "outputs": [
    {
     "name": "stdout",
     "output_type": "stream",
     "text": [
      "{'satu': 5, 'dua': 10, 'tiga': 15}\n"
     ]
    }
   ],
   "source": [
    "#menambah Elemen ke dalam Dictionary\n",
    "dic ={'satu':5, 'dua':10} #sebelum ditambah\n",
    "dic['tiga'] = 15 #menambah elemen key 'tiga' dan value '15'\n",
    "print(dic) #menampilkan hasil penambahan elemen"
   ]
  },
  {
   "cell_type": "code",
   "execution_count": 9,
   "id": "d22f7d60-f101-482e-9812-e2f52d926888",
   "metadata": {},
   "outputs": [
    {
     "name": "stdout",
     "output_type": "stream",
     "text": [
      "{'satu': 5, 'dua': 20, 'tiga': 15}\n"
     ]
    }
   ],
   "source": [
    "#mengubah Elemen ke dalam Dictionary\n",
    "dic ={'satu':5, 'dua':10, 'tiga':15} #sebelum diubah\n",
    "dic['dua'] = 20 #mengubah value '10' menjadi '20'\n",
    "print(dic)"
   ]
  },
  {
   "cell_type": "code",
   "execution_count": 10,
   "id": "c812e811-5163-4bfe-8d90-93c5798abf24",
   "metadata": {},
   "outputs": [
    {
     "name": "stdout",
     "output_type": "stream",
     "text": [
      "{'satu': 5, 'tiga': 15}\n"
     ]
    }
   ],
   "source": [
    "#menghapus Elemen dari Dictionary\n",
    "dic ={'satu':5, 'dua':10, 'tiga':15} #sebelum dihapus\n",
    "del dic['dua']\n",
    "print(dic)"
   ]
  },
  {
   "cell_type": "code",
   "execution_count": 12,
   "id": "ac43ba03-2ee8-46e1-b113-5637067b4399",
   "metadata": {},
   "outputs": [
    {
     "name": "stdout",
     "output_type": "stream",
     "text": [
      "{'a': 1, 'b': 2, 'c': 3}\n",
      "['a', 'b', 'c']\n",
      "['a', 'b', 'c']\n",
      "a = 1\n",
      "b = 2\n",
      "c = 3\n"
     ]
    }
   ],
   "source": [
    "#Sorting  Dictionary\n",
    "D = {'a':1, 'b':2, 'c':3}\n",
    "print(D)\n",
    "Ks = list(D.keys())\n",
    "print(Ks)\n",
    "Ks.sort()\n",
    "print(Ks)\n",
    "\n",
    "for key in Ks:\n",
    "    print(key, '=', D[key])"
   ]
  },
  {
   "cell_type": "code",
   "execution_count": null,
   "id": "b549cdc3-b666-46f7-82c7-a67dbc9e719b",
   "metadata": {},
   "outputs": [],
   "source": []
  }
 ],
 "metadata": {
  "kernelspec": {
   "display_name": "Python 3 (ipykernel)",
   "language": "python",
   "name": "python3"
  },
  "language_info": {
   "codemirror_mode": {
    "name": "ipython",
    "version": 3
   },
   "file_extension": ".py",
   "mimetype": "text/x-python",
   "name": "python",
   "nbconvert_exporter": "python",
   "pygments_lexer": "ipython3",
   "version": "3.13.5"
  }
 },
 "nbformat": 4,
 "nbformat_minor": 5
}
