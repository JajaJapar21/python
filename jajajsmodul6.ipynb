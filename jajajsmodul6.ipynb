{
 "cells": [
  {
   "cell_type": "code",
   "execution_count": 1,
   "id": "e6853167-4261-4684-95cc-9a65edfe70d8",
   "metadata": {},
   "outputs": [
    {
     "name": "stdout",
     "output_type": "stream",
     "text": [
      "1\n",
      "2\n",
      "3\n"
     ]
    }
   ],
   "source": [
    "#Modul 6 Fungsi dan Generator\n",
    "def sisabagi (a, b):\n",
    "    hasil=a % b\n",
    "    return hasil\n",
    "h1 = sisabagi (10, 3)\n",
    "h2 = sisabagi (14, 4)\n",
    "h3 = sisabagi(17, 7)\n",
    "print(h1)\n",
    "print(h2)\n",
    "print(h3)"
   ]
  },
  {
   "cell_type": "code",
   "execution_count": 2,
   "id": "dabb4df5-4c94-419b-a6ec-849711248486",
   "metadata": {},
   "outputs": [
    {
     "name": "stdout",
     "output_type": "stream",
     "text": [
      "PemrogramanPython\n",
      "Pemrograman\n",
      "Python\n"
     ]
    }
   ],
   "source": [
    "def write(s, newline=True):\n",
    "    print(s, end='')\n",
    "    if newline:print()\n",
    "write('Pemrograman', False); write(\"Python\")\n",
    "write('Pemrograman'); write(\"Python\")"
   ]
  },
  {
   "cell_type": "code",
   "execution_count": 3,
   "id": "56cbf169-df7b-41a5-8238-4e1b5d29e80d",
   "metadata": {},
   "outputs": [
    {
     "name": "stdout",
     "output_type": "stream",
     "text": [
      "0\n",
      "1\n",
      "2\n"
     ]
    }
   ],
   "source": [
    "#Contoh variabel global\n",
    "count = 0\n",
    "#fungsi yang mengakses variabel  global\n",
    "def increment():\n",
    "    global count\n",
    "    count +=1 #mengubah variabel global\n",
    "print(count)\n",
    "#Memanggil fungsi increment()\n",
    "increment()\n",
    "#menampilkan nilai count\n",
    "#setelah pemanggilan fungsi increment()\n",
    "print(count)\n",
    "increment()\n",
    "print(count)"
   ]
  },
  {
   "cell_type": "code",
   "execution_count": 4,
   "id": "fd3d9746-0f8c-4a95-b73c-4e52ea109791",
   "metadata": {},
   "outputs": [
    {
     "name": "stdout",
     "output_type": "stream",
     "text": [
      "2025-10-08\n",
      "\n",
      "Hari\t: 8\n",
      "\n",
      "Bulan\t: 10\n",
      "\n",
      "Tahun\t: 2025\n"
     ]
    }
   ],
   "source": [
    "import datetime as dt\n",
    "def getisoformat(date):\n",
    "    return dt.date.isoformat(date)\n",
    "def day(date):\n",
    "    datestr = getisoformat(date)\n",
    "    return int (datestr[8:])\n",
    "def month(date):\n",
    "    datestr = getisoformat(date)\n",
    "    return int(datestr[5:7])\n",
    "def year(date):\n",
    "    datestr = getisoformat(date)\n",
    "    return int(datestr[:4])\n",
    "def main ():\n",
    "    today = dt.date.today()\n",
    "    print(getisoformat(today))\n",
    "    print(\"\\nHari\\t: %d\" % day (today))\n",
    "    print(\"\\nBulan\\t: %d\" % month(today))\n",
    "    print(\"\\nTahun\\t: %d\" % year(today))\n",
    "    \n",
    "if __name__ == \"__main__\":\n",
    "    main()"
   ]
  },
  {
   "cell_type": "code",
   "execution_count": 5,
   "id": "7facfa7e-85f5-4978-8c1d-1046894e894b",
   "metadata": {},
   "outputs": [
    {
     "name": "stdout",
     "output_type": "stream",
     "text": [
      "0\n",
      "1\n",
      "2\n"
     ]
    }
   ],
   "source": [
    "def generator(n):\n",
    "    MAX = 2147483647\n",
    "    while n < MAX:\n",
    "        yield n\n",
    "        n += 1\n",
    "g = generator(0)\n",
    "print(g.__next__())\n",
    "print(g.__next__())\n",
    "print(g.__next__())"
   ]
  },
  {
   "cell_type": "code",
   "execution_count": null,
   "id": "2eb96d6f-df19-4d07-bdae-8cd1dd4ea7f4",
   "metadata": {},
   "outputs": [],
   "source": []
  }
 ],
 "metadata": {
  "kernelspec": {
   "display_name": "Python 3 (ipykernel)",
   "language": "python",
   "name": "python3"
  },
  "language_info": {
   "codemirror_mode": {
    "name": "ipython",
    "version": 3
   },
   "file_extension": ".py",
   "mimetype": "text/x-python",
   "name": "python",
   "nbconvert_exporter": "python",
   "pygments_lexer": "ipython3",
   "version": "3.13.5"
  }
 },
 "nbformat": 4,
 "nbformat_minor": 5
}
