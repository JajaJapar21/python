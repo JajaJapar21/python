{
 "cells": [
  {
   "cell_type": "code",
   "execution_count": 1,
   "id": "7013296a-6214-458e-8f33-307801cd0da7",
   "metadata": {},
   "outputs": [
    {
     "name": "stdout",
     "output_type": "stream",
     "text": [
      "{32, 43, 11, 21}\n"
     ]
    }
   ],
   "source": [
    "s = set([11, 21, 32, 43])\n",
    "print(s)"
   ]
  },
  {
   "cell_type": "code",
   "execution_count": 2,
   "id": "b818c6aa-b93a-4c50-9f89-519b3b516206",
   "metadata": {},
   "outputs": [
    {
     "name": "stdout",
     "output_type": "stream",
     "text": [
      "frozenset({1, 2, 3})\n"
     ]
    }
   ],
   "source": [
    "# Contoh:\n",
    "fs = frozenset([1, 2, 3])\n",
    "print(fs)"
   ]
  },
  {
   "cell_type": "code",
   "execution_count": 5,
   "id": "058f3a0c-3ec3-4eea-b1e3-59323719a3ea",
   "metadata": {},
   "outputs": [
    {
     "name": "stdout",
     "output_type": "stream",
     "text": [
      "Elemen awal:\n",
      "3311442255\n",
      "\n",
      "Setelah pemanggilan add():\n",
      "33661144772255\n",
      "\n",
      "Setelah pemanggilan update():\n",
      "336699114477225588\n",
      "\n",
      "Setelah pemanggilan remove():\n",
      "3366991177225588\n",
      "\n",
      "Setelah pemanggilan clear():\n",
      "Himpunan kosong\n",
      "\n"
     ]
    },
    {
     "ename": "SystemExit",
     "evalue": "1",
     "output_type": "error",
     "traceback": [
      "An exception has occurred, use %tb to see the full traceback.\n",
      "\u001b[1;31mSystemExit\u001b[0m\u001b[1;31m:\u001b[0m 1\n"
     ]
    }
   ],
   "source": [
    "import sys\n",
    "def printElements(s, info):\n",
    "    print(info)\n",
    "    if len(s) == 0:\n",
    "        print(\"Himpunan kosong\\n\")\n",
    "        sys.exit(1)\n",
    "    for e in s:\n",
    "        print(str(e) + \"\", end = '')\n",
    "    print(\"\\n\")\n",
    "\n",
    "\n",
    "# membuat himpunan\n",
    "s = set([11, 22, 33, 44, 55])\n",
    "printElements(s, \"Elemen awal:\")\n",
    "\n",
    "#menambah anggota/elemen baru\n",
    "# menggunakan metode add()\n",
    "s.add(66);\n",
    "s.add(77);\n",
    "printElements(s, \"Setelah pemanggilan add():\")\n",
    "\n",
    "#menambah anggota/elemen baru\n",
    "#menggunakan metode update()\n",
    "s.update([88, 99])\n",
    "printElements(s, \"Setelah pemanggilan update():\")\n",
    "\n",
    "# menghapus elemen dengan nilai 44\n",
    "s.remove(44)\n",
    "printElements(s, \"Setelah pemanggilan remove():\")\n",
    "\n",
    "# menghapus semua elemen\n",
    "s.clear()\n",
    "printElements(s, \"Setelah pemanggilan clear():\")"
   ]
  },
  {
   "cell_type": "code",
   "execution_count": 6,
   "id": "b6113701-46d0-4319-8230-dcc299099af1",
   "metadata": {},
   "outputs": [
    {
     "name": "stdout",
     "output_type": "stream",
     "text": [
      "Operasi union:\n",
      "{1, 2, 3, 4}\n",
      "Operasi intersection:\n",
      "Operasi difference:\n",
      "{1, 2}\n",
      "Operasi symmetric difference:\n",
      "{1, 2, 4}\n"
     ]
    }
   ],
   "source": [
    "# Type set mendukung operasi-operasi himpunan seperti :\n",
    "\n",
    "x = set([1, 2, 3,])\n",
    "y = set([3, 4,])\n",
    "\n",
    "a = x | y # union\n",
    "print('Operasi union:')\n",
    "print(a)\n",
    "\n",
    "a = x & y # intersection\n",
    "print('Operasi intersection:')\n",
    "\n",
    "c = x - y\n",
    "print('Operasi difference:')\n",
    "print(c)\n",
    "\n",
    "d = x ^ y\n",
    "print('Operasi symmetric difference:')\n",
    "print(d)"
   ]
  },
  {
   "cell_type": "code",
   "execution_count": 7,
   "id": "31be556f-26e1-47ff-92e1-5fd4f55ba362",
   "metadata": {},
   "outputs": [
    {
     "name": "stdout",
     "output_type": "stream",
     "text": [
      "frozenset({1, 2, 3})\n"
     ]
    },
    {
     "ename": "AttributeError",
     "evalue": "'frozenset' object has no attribute 'add'",
     "output_type": "error",
     "traceback": [
      "\u001b[1;31m---------------------------------------------------------------------------\u001b[0m",
      "\u001b[1;31mAttributeError\u001b[0m                            Traceback (most recent call last)",
      "Cell \u001b[1;32mIn[7], line 4\u001b[0m\n\u001b[0;32m      2\u001b[0m fs \u001b[38;5;241m=\u001b[39m \u001b[38;5;28mfrozenset\u001b[39m([\u001b[38;5;241m1\u001b[39m, \u001b[38;5;241m2\u001b[39m, \u001b[38;5;241m3\u001b[39m])\n\u001b[0;32m      3\u001b[0m \u001b[38;5;28mprint\u001b[39m(fs)\n\u001b[1;32m----> 4\u001b[0m fs\u001b[38;5;241m.\u001b[39madd(\u001b[38;5;241m4\u001b[39m)\n",
      "\u001b[1;31mAttributeError\u001b[0m: 'frozenset' object has no attribute 'add'"
     ]
    }
   ],
   "source": [
    "# frozenset tidak memiliki metode add()\n",
    "fs = frozenset([1, 2, 3])\n",
    "print(fs)\n",
    "fs.add(4)"
   ]
  },
  {
   "cell_type": "code",
   "execution_count": 8,
   "id": "32a31ba2-54f8-4ef5-9f3e-4729cac7b92a",
   "metadata": {},
   "outputs": [
    {
     "name": "stdout",
     "output_type": "stream",
     "text": [
      "frozenset({1, 2, 3})\n"
     ]
    },
    {
     "ename": "AttributeError",
     "evalue": "'frozenset' object has no attribute 'add'",
     "output_type": "error",
     "traceback": [
      "\u001b[1;31m---------------------------------------------------------------------------\u001b[0m",
      "\u001b[1;31mAttributeError\u001b[0m                            Traceback (most recent call last)",
      "Cell \u001b[1;32mIn[8], line 4\u001b[0m\n\u001b[0;32m      2\u001b[0m fs \u001b[38;5;241m=\u001b[39m \u001b[38;5;28mfrozenset\u001b[39m([\u001b[38;5;241m1\u001b[39m, \u001b[38;5;241m2\u001b[39m, \u001b[38;5;241m3\u001b[39m])\n\u001b[0;32m      3\u001b[0m \u001b[38;5;28mprint\u001b[39m(fs)\n\u001b[1;32m----> 4\u001b[0m fs\u001b[38;5;241m.\u001b[39madd([\u001b[38;5;241m4\u001b[39m,\u001b[38;5;241m5\u001b[39m])\n",
      "\u001b[1;31mAttributeError\u001b[0m: 'frozenset' object has no attribute 'add'"
     ]
    }
   ],
   "source": [
    "# frozenset tidak memiliki metode update()\n",
    "fs = frozenset([1, 2, 3])\n",
    "print(fs)\n",
    "fs.add([4,5])"
   ]
  },
  {
   "cell_type": "code",
   "execution_count": 9,
   "id": "54234a3d-b703-4893-a098-c20d6aa2e9a2",
   "metadata": {},
   "outputs": [
    {
     "name": "stdout",
     "output_type": "stream",
     "text": [
      "frozenset({1, 2, 3})\n"
     ]
    },
    {
     "ename": "AttributeError",
     "evalue": "'frozenset' object has no attribute 'add'",
     "output_type": "error",
     "traceback": [
      "\u001b[1;31m---------------------------------------------------------------------------\u001b[0m",
      "\u001b[1;31mAttributeError\u001b[0m                            Traceback (most recent call last)",
      "Cell \u001b[1;32mIn[9], line 4\u001b[0m\n\u001b[0;32m      2\u001b[0m fs \u001b[38;5;241m=\u001b[39m \u001b[38;5;28mfrozenset\u001b[39m([\u001b[38;5;241m1\u001b[39m, \u001b[38;5;241m2\u001b[39m, \u001b[38;5;241m3\u001b[39m])\n\u001b[0;32m      3\u001b[0m \u001b[38;5;28mprint\u001b[39m(fs)\n\u001b[1;32m----> 4\u001b[0m fs\u001b[38;5;241m.\u001b[39madd(\u001b[38;5;241m3\u001b[39m)\n",
      "\u001b[1;31mAttributeError\u001b[0m: 'frozenset' object has no attribute 'add'"
     ]
    }
   ],
   "source": [
    "# frozenset tidak memiliki metode remove()\n",
    "fs = frozenset([1, 2, 3])\n",
    "print(fs)\n",
    "fs.add(3)"
   ]
  },
  {
   "cell_type": "code",
   "execution_count": 10,
   "id": "617201e7-35c4-413d-bfe4-8e82a5bd324f",
   "metadata": {},
   "outputs": [
    {
     "name": "stdout",
     "output_type": "stream",
     "text": [
      "frozenset({1, 2, 3})\n"
     ]
    },
    {
     "ename": "AttributeError",
     "evalue": "'frozenset' object has no attribute 'clear'",
     "output_type": "error",
     "traceback": [
      "\u001b[1;31m---------------------------------------------------------------------------\u001b[0m",
      "\u001b[1;31mAttributeError\u001b[0m                            Traceback (most recent call last)",
      "Cell \u001b[1;32mIn[10], line 4\u001b[0m\n\u001b[0;32m      2\u001b[0m fs \u001b[38;5;241m=\u001b[39m \u001b[38;5;28mfrozenset\u001b[39m([\u001b[38;5;241m1\u001b[39m, \u001b[38;5;241m2\u001b[39m, \u001b[38;5;241m3\u001b[39m])\n\u001b[0;32m      3\u001b[0m \u001b[38;5;28mprint\u001b[39m(fs)\n\u001b[1;32m----> 4\u001b[0m fs\u001b[38;5;241m.\u001b[39mclear()\n",
      "\u001b[1;31mAttributeError\u001b[0m: 'frozenset' object has no attribute 'clear'"
     ]
    }
   ],
   "source": [
    "# frozenset tidak memiliki metode clear()\n",
    "fs = frozenset([1, 2, 3])\n",
    "print(fs)\n",
    "fs.clear()"
   ]
  },
  {
   "cell_type": "code",
   "execution_count": 11,
   "id": "8d8b304b-c822-44ff-8c1a-ba781cc6b660",
   "metadata": {},
   "outputs": [
    {
     "name": "stdout",
     "output_type": "stream",
     "text": [
      " pemograman python 3\n"
     ]
    }
   ],
   "source": [
    "# Contoh:\n",
    "versi = 3\n",
    "str = ' pemograman python'\n",
    "\n",
    "if versi == 3:\n",
    "    print(str + ' 3')\n",
    "else:\n",
    "    print(str)\n",
    "    "
   ]
  },
  {
   "cell_type": "code",
   "execution_count": 12,
   "id": "ca0d979e-de09-4c7e-8327-0c16eb8cd980",
   "metadata": {},
   "outputs": [
    {
     "name": "stdout",
     "output_type": "stream",
     "text": [
      "Bahasa\t\t: python 3\n",
      "versi python\t: 3.13.\n"
     ]
    }
   ],
   "source": [
    "# Contoh:\n",
    "import sys\n",
    "versi = sys.version\n",
    "\n",
    "if versi[:1] == '3':\n",
    "    print('Bahasa\\t\\t: python 3')\n",
    "    print('versi python\\t: ' + versi[:5])"
   ]
  },
  {
   "cell_type": "code",
   "execution_count": 14,
   "id": "6024ff56-bf95-4369-89ab-7addbe77662c",
   "metadata": {},
   "outputs": [
    {
     "name": "stdin",
     "output_type": "stream",
     "text": [
      "Masukan bilangan pertama\t: 1034\n",
      "Masukan bilangan kedua\t: 273\n",
      "Masukan operator (+,-,*,/)\t: *\n"
     ]
    },
    {
     "name": "stdout",
     "output_type": "stream",
     "text": [
      "1034.00 * 273.00 = 282282.00\n"
     ]
    }
   ],
   "source": [
    "# Contoh kode python\n",
    "def main():\n",
    "    x = float(input('Masukkan bilangan pertama\\t:'))\n",
    "    y = float(input('Masukkan bilangan kedua\\t:'))\n",
    "    op = input('Masukkan operator (+,-,*,/)\\t:')\n",
    "\n",
    "    if op == '+':\n",
    "        print('%.2f + %.2f = %.2f' % (x, y, x+y))\n",
    "    elif op == '-':    \n",
    "        print('%.2f - %.2f = %.2f' % (x, y, x-y))\n",
    "    elif op == '*': \n",
    "        print('%.2f * %.2f = %.2f' % (x, y, x*y))\n",
    "    elif op == '/': \n",
    "        print('%.2f / %.2f = %.2f' % (x, y, x/y))\n",
    "    else:\n",
    "        print('ERROR: Gunakan operator +,-,*,/')\n",
    "        \n",
    "if __name__=='__main__':\n",
    "     main()"
   ]
  },
  {
   "cell_type": "code",
   "execution_count": 15,
   "id": "6e462577-3d5b-43be-ac3d-7429ec3883bf",
   "metadata": {},
   "outputs": [
    {
     "name": "stdout",
     "output_type": "stream",
     "text": [
      "Python"
     ]
    }
   ],
   "source": [
    "# Contoh program\n",
    "\n",
    "a = 'Python'\n",
    "# menelusuri semua karakter dalam string: a\n",
    "for c in a:\n",
    "    print(c, end='')"
   ]
  },
  {
   "cell_type": "code",
   "execution_count": 16,
   "id": "c1b52e6c-25a2-4516-994f-d6217c3313cc",
   "metadata": {},
   "outputs": [
    {
     "name": "stdout",
     "output_type": "stream",
     "text": [
      "Arti 'one' adalah 'satu'\n",
      "Arti 'two' adalah 'dua'\n",
      "Arti 'three' adalah 'tiga'\n"
     ]
    }
   ],
   "source": [
    "# Contoh program\n",
    "c = {'one':'satu','two':'dua','three':'tiga'}\n",
    "# menelusuri semua elemen di dalam dictionary: c\n",
    "for key in c:\n",
    "    print(\"Arti '%s' adalah '%s'\"% (key, c[key]))"
   ]
  },
  {
   "cell_type": "code",
   "execution_count": 17,
   "id": "79de7121-ebbf-4b2d-88fc-d1ae81e0c117",
   "metadata": {},
   "outputs": [
    {
     "name": "stdout",
     "output_type": "stream",
     "text": [
      "Python\n",
      "Ruby\n",
      "perl\n",
      "PHP\n"
     ]
    }
   ],
   "source": [
    "# Contoh program\n",
    "\n",
    "b = ['Python','Ruby','perl','PHP']\n",
    "# menelusuri semua karakter di dalam list: a\n",
    "for e in b:\n",
    "    print(e)"
   ]
  },
  {
   "cell_type": "code",
   "execution_count": 18,
   "id": "27ea3f89-73f8-45af-b412-35a662de1413",
   "metadata": {},
   "outputs": [
    {
     "name": "stdout",
     "output_type": "stream",
     "text": [
      "012345"
     ]
    }
   ],
   "source": [
    "# contoh\n",
    "\n",
    "for i in range (6):\n",
    "    print(i, end='')"
   ]
  },
  {
   "cell_type": "code",
   "execution_count": 19,
   "id": "3e8a4dc0-f6d4-4f45-b714-6af2c4ed53ec",
   "metadata": {},
   "outputs": [
    {
     "name": "stdout",
     "output_type": "stream",
     "text": [
      "10 12 14 16 18 20 "
     ]
    }
   ],
   "source": [
    "# contoh\n",
    "for i in range (10,22,2):\n",
    "     print(\"%d \" % i, end='')"
   ]
  },
  {
   "cell_type": "code",
   "execution_count": null,
   "id": "8645ddc4-251c-4d00-a9b2-6c0e8d415fa6",
   "metadata": {},
   "outputs": [],
   "source": []
  }
 ],
 "metadata": {
  "kernelspec": {
   "display_name": "Python 3 (ipykernel)",
   "language": "python",
   "name": "python3"
  },
  "language_info": {
   "codemirror_mode": {
    "name": "ipython",
    "version": 3
   },
   "file_extension": ".py",
   "mimetype": "text/x-python",
   "name": "python",
   "nbconvert_exporter": "python",
   "pygments_lexer": "ipython3",
   "version": "3.13.5"
  }
 },
 "nbformat": 4,
 "nbformat_minor": 5
}
