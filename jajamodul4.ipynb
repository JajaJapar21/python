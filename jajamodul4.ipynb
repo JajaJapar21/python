{
 "cells": [
  {
   "cell_type": "code",
   "execution_count": 1,
   "id": "ed0de94a-11fb-4e34-aeac-bbb91bf45ab8",
   "metadata": {},
   "outputs": [
    {
     "name": "stdout",
     "output_type": "stream",
     "text": [
      "5\n"
     ]
    }
   ],
   "source": [
    "# menggunakan tanda operasi / operator sama dengan (=)\n",
    "# Contoh\n",
    "a = 5\n",
    "print(a)\n"
   ]
  },
  {
   "cell_type": "code",
   "execution_count": 2,
   "id": "35d268f4-1376-4d75-b374-bedf62a0a3d6",
   "metadata": {},
   "outputs": [
    {
     "name": "stdout",
     "output_type": "stream",
     "text": [
      "13\n"
     ]
    }
   ],
   "source": [
    "# Contoh\n",
    "a = 5\n",
    "a = a + 8 # a baru = a lama + 8\n",
    "print(a)\n"
   ]
  },
  {
   "cell_type": "code",
   "execution_count": 3,
   "id": "e16c3055-608c-4bf1-ab6f-bb8a56e157d5",
   "metadata": {},
   "outputs": [
    {
     "name": "stdout",
     "output_type": "stream",
     "text": [
      "13\n"
     ]
    }
   ],
   "source": [
    "# merubah kode operasi penjumlahan\n",
    "# Contoh\n",
    "a = 5\n",
    "a += 8 # a baru = a lama + 8\n",
    "print(a)"
   ]
  },
  {
   "cell_type": "code",
   "execution_count": 4,
   "id": "f88a0036-883c-41bc-b6ff-da163799c251",
   "metadata": {},
   "outputs": [
    {
     "name": "stdout",
     "output_type": "stream",
     "text": [
      "30\n"
     ]
    }
   ],
   "source": [
    "# Operasi perkalian\n",
    "b = 10\n",
    "b *= 3\n",
    "print(b)"
   ]
  },
  {
   "cell_type": "code",
   "execution_count": 5,
   "id": "1d415acd-2d89-4019-a533-9faefaf158b9",
   "metadata": {},
   "outputs": [
    {
     "name": "stdout",
     "output_type": "stream",
     "text": [
      "4\n",
      "4.285714285714286\n"
     ]
    }
   ],
   "source": [
    "# Operasi pembagian bilangan bulat (//=)\n",
    "b = 30\n",
    "b //= 7\n",
    "print(b)\n",
    "print(30/7)"
   ]
  },
  {
   "cell_type": "code",
   "execution_count": 6,
   "id": "59738078-9126-4e1b-ac6d-df8c30ad0bff",
   "metadata": {},
   "outputs": [
    {
     "name": "stdout",
     "output_type": "stream",
     "text": [
      "4.285714285714286\n",
      "4.285714285714286\n"
     ]
    }
   ],
   "source": [
    "# Operasi pembagian bilangan riil (//=)\n",
    "b = 30\n",
    "b /= 7\n",
    "print(b)\n",
    "print(30/7)"
   ]
  },
  {
   "cell_type": "code",
   "execution_count": 7,
   "id": "80a8101d-ac93-4517-8303-192ceafbc1fe",
   "metadata": {},
   "outputs": [
    {
     "name": "stdout",
     "output_type": "stream",
     "text": [
      "2\n"
     ]
    }
   ],
   "source": [
    "# Operasi pencarian sisa bagi (%=)\n",
    "b = 30\n",
    "b %= 7\n",
    "print(b)"
   ]
  },
  {
   "cell_type": "code",
   "execution_count": 14,
   "id": "0256395e-7d54-4d96-91b3-405cafa7836a",
   "metadata": {},
   "outputs": [
    {
     "name": "stdout",
     "output_type": "stream",
     "text": [
      "x = 8\n",
      "y = 3\n",
      "x + y 11\n",
      "x - y 5\n",
      "x * y 24\n",
      "x / y 2.6666666666666665\n",
      "x // y 2\n",
      "x % y 2\n",
      "x ** y 512\n"
     ]
    }
   ],
   "source": [
    "# Contoh program\n",
    "def main():\n",
    "    # mendefinisikan variabel x dan y\n",
    "    x = 8\n",
    "    y = 3\n",
    "\n",
    "    # menampilkan nilai x dan y\n",
    "    print('x =', x)\n",
    "    print('y =', y)\n",
    "\n",
    "    # melakukan perhitungan terhadap x dan y\n",
    "    print('x + y', (x + y))\n",
    "    print('x - y', (x - y))\n",
    "    print('x * y', (x * y))\n",
    "    print('x / y', (x / y))\n",
    "    print('x // y', (x // y))\n",
    "    print('x % y', (x % y))\n",
    "    print('x ** y', (x ** y))     \n",
    "if __name__ == '__main__':      \n",
    "     main()"
   ]
  },
  {
   "cell_type": "code",
   "execution_count": 18,
   "id": "0ac4a4db-d31a-411d-a808-6ff8af49d937",
   "metadata": {},
   "outputs": [
    {
     "name": "stdout",
     "output_type": "stream",
     "text": [
      "x = 8\n",
      "y = 5\n",
      "[2, 4, 8, 16, 32]\n",
      "x == y False\n",
      "x != y True\n",
      "x > y True\n",
      "x >= y True\n",
      "x < y False\n",
      "x <= y False\n",
      "x in li True\n",
      "y in li False\n"
     ]
    }
   ],
   "source": [
    "# Contoh program\n",
    "def main():\n",
    "    # mendefinisikan variabel x dan y\n",
    "    x = 8\n",
    "    y = 5\n",
    "    li = [2, 4, 8, 16, 32,]\n",
    "\n",
    "    # menampilkan nilai x dan y\n",
    "    print('x =', x)\n",
    "    print('y =', y)\n",
    "    print(li)\n",
    "\n",
    "    # melakukan pemeriksaan terhadap x dan y\n",
    "    print('x == y', (x == y))\n",
    "    print('x != y', (x != y))\n",
    "    print('x > y', (x > y))\n",
    "    print('x >= y', (x >= y))\n",
    "    print('x < y', (x < y))\n",
    "    print('x <= y', (x <= y))\n",
    "    print('x in li', (x in li ))\n",
    "    print('y in li', (y in li ))\n",
    "if __name__ == '__main__':      \n",
    "     main()"
   ]
  },
  {
   "cell_type": "code",
   "execution_count": 19,
   "id": "d54f95bb-c0a7-48b6-8c72-7457fbb468e8",
   "metadata": {},
   "outputs": [
    {
     "name": "stdout",
     "output_type": "stream",
     "text": [
      "Operasi AND\n",
      "True and True\t: True\n",
      "True and False\t: False\n",
      "False and True\t: False\n",
      "False and False \t: False\n"
     ]
    }
   ],
   "source": [
    "# Contoh program operasi AND\n",
    "def main():\n",
    "    print('Operasi AND')\n",
    "    print('True and True\\t:', (True and True))\n",
    "    print('True and False\\t:', (True and False))\n",
    "    print('False and True\\t:', (False and True))\n",
    "    print('False and False \\t:', (True and False))\n",
    "if __name__ == '__main__':      \n",
    "     main()    "
   ]
  },
  {
   "cell_type": "code",
   "execution_count": 20,
   "id": "bd9606c4-c992-4741-8ed9-b837cbcdd073",
   "metadata": {},
   "outputs": [
    {
     "name": "stdout",
     "output_type": "stream",
     "text": [
      "PoliteknikTakumi\n"
     ]
    }
   ],
   "source": [
    "# Contoh:\n",
    "str1 = 'Politeknik'\n",
    "str2 = 'Takumi'\n",
    "\n",
    "# menjumlahkan string\n",
    "str3 = (str1 + str2)\n",
    "print(str3)"
   ]
  },
  {
   "cell_type": "code",
   "execution_count": 21,
   "id": "6dd3bc10-e217-4a2e-9aa0-be3f194d863a",
   "metadata": {},
   "outputs": [
    {
     "name": "stdout",
     "output_type": "stream",
     "text": [
      "bil1: 15\n",
      "bil1: 7.250000\n"
     ]
    }
   ],
   "source": [
    "# Contoh:\n",
    "bil1 = 15\n",
    "bil2 = 7.25\n",
    "str1 = 'bil1: %d' % bil1\n",
    "str2 = 'bil1: %2f' % bil2\n",
    "\n",
    "print(str1)\n",
    "print(str2)"
   ]
  },
  {
   "cell_type": "code",
   "execution_count": 22,
   "id": "6c6253b0-caf2-4251-8c2f-f4adc0fa8043",
   "metadata": {},
   "outputs": [
    {
     "name": "stdout",
     "output_type": "stream",
     "text": [
      "'Takumi' ada didalam string eko\n"
     ]
    }
   ],
   "source": [
    "# Contoh\n",
    "\n",
    "eko = 'Politeknik Takumi'\n",
    "if 'Takumi' in eko:\n",
    "    print(\"'Takumi' ada didalam string eko\")\n",
    "else:\n",
    "    print(\"'Takumi' tidak ada didalam string eko\")\n",
    "    "
   ]
  },
  {
   "cell_type": "code",
   "execution_count": 24,
   "id": "42aa4733-a7eb-42ae-8a18-2a2ab2a077b3",
   "metadata": {},
   "outputs": [
    {
     "name": "stdout",
     "output_type": "stream",
     "text": [
      "TTT\n",
      "TTT TTT TTT TTT TTT \n"
     ]
    }
   ],
   "source": [
    "# Contoh\n",
    "karakter = 'T'\n",
    "teks = karakter * 3\n",
    "print(teks)\n",
    "\n",
    "print((teks +' ')* 5)"
   ]
  },
  {
   "cell_type": "code",
   "execution_count": 25,
   "id": "937c9865-0bbf-4395-9976-73b2d926e1d2",
   "metadata": {},
   "outputs": [
    {
     "name": "stdout",
     "output_type": "stream",
     "text": [
      " Takumi  Takumi  Takumi  Takumi  Takumi \n"
     ]
    }
   ],
   "source": [
    "# Contoh\n",
    "\n",
    "print(' Takumi ' * 5)"
   ]
  },
  {
   "cell_type": "code",
   "execution_count": 33,
   "id": "cb9b9c28-2de9-4964-b797-d764ae29f40c",
   "metadata": {},
   "outputs": [
    {
     "name": "stdout",
     "output_type": "stream",
     "text": [
      "x: \t120\n",
      "y: \t127\n",
      "\n",
      "Bitwise AND\n",
      "x&y \t:120\n",
      "\n",
      "Bitwise OR\n",
      "x | y \t:127\n",
      "\n",
      "Bitwise XOR\n",
      "x^y \t:7\n",
      "\n",
      "Bitwise NOT\n",
      "~x \t:-121\n",
      "~y \t:-128\n",
      "\n",
      " Bitwise SHIFT LEFT\n",
      "x << 1 \t:240\n",
      "y << 1 \t:254\n",
      "\n",
      "Bitwise SHIFT RIGHT\n",
      "x >> 1 \t:60\n",
      "y >> 1 \t:63\n"
     ]
    }
   ],
   "source": [
    "def main():\n",
    "    x = 120  #dalam bentuk biner: 01111000 \n",
    "    y = 127  #dalam bentuk biner: 01111111\n",
    "\n",
    "    # menampilkan nilai x dan y \n",
    "    print('x: \\t' + str(x)) \n",
    "    print('y: \\t' + str(y))\n",
    "\n",
    "    print('\\nBitwise AND') \n",
    "    print('x&y \\t:' + str(x&y))\n",
    "\n",
    "    print('\\nBitwise OR') \n",
    "    print('x | y \\t:' + str(x | y))\n",
    "\n",
    "    print('\\nBitwise XOR') \n",
    "    print('x^y \\t:' + str(x^y))\n",
    "\n",
    "    print('\\nBitwise NOT') \n",
    "    print('~x \\t:' + str(~x)) \n",
    "    print('~y \\t:' + str(~y))\n",
    "\n",
    "    print('\\n Bitwise SHIFT LEFT') \n",
    "    print('x << 1 \\t:' + str(x << 1)) \n",
    "    print('y << 1 \\t:' + str(y << 1))\n",
    "\n",
    "    print('\\nBitwise SHIFT RIGHT') \n",
    "    print('x >> 1 \\t:' + str(x >> 1)) \n",
    "    print('y >> 1 \\t:' + str(y >> 1))\n",
    "\n",
    "if __name__ == '__main__':\n",
    "    main()\n",
    "    "
   ]
  },
  {
   "cell_type": "code",
   "execution_count": 32,
   "id": "8ded3dfa-384c-4f0b-91ad-25592a2e4138",
   "metadata": {},
   "outputs": [
    {
     "name": "stdout",
     "output_type": "stream",
     "text": [
      "x: \t120\n",
      "y: \t127\n",
      "\n",
      "Bitwise AND\n",
      "x&y \t:120\n",
      "\n",
      "Bitwise OR\n",
      "x | y \t:127\n",
      "\n",
      "Bitwise XOR\n",
      "x^y \t:7\n",
      "\n",
      "Bitwise NOT\n",
      "~x \t:-121\n",
      "~y \t:-128\n",
      "\n",
      " Bitwise SHIFT LEFT\n",
      "x << 1 \t:240\n",
      "y << 1 \t:254\n",
      "\n",
      "Bitwise SHIFT RIGHT\n",
      "x >> 1 \t:60\n",
      "y >> 1 \t:63\n"
     ]
    }
   ],
   "source": [
    "def main():\n",
    "    x = 120  #dalam bentuk biner: 01111000 \n",
    "    y = 127  #dalam bentuk biner: 01111111\n",
    "\n",
    "    # menampilkan nilai x dan y \n",
    "    print('x: \\t' + str(x)) \n",
    "    print('y: \\t' + str(y))\n",
    "\n",
    "    print('\\nBitwise AND') \n",
    "    print('x&y \\t:' + str(x&y))\n",
    "\n",
    "    print('\\nBitwise OR') \n",
    "    print('x | y \\t:' + str(x | y))\n",
    "\n",
    "    print('\\nBitwise XOR') \n",
    "    print('x^y \\t:' + str(x^y))\n",
    "\n",
    "    print('\\nBitwise NOT') \n",
    "    print('~x \\t:' + str(~x)) \n",
    "    print('~y \\t:' + str(~y))\n",
    "\n",
    "    print('\\n Bitwise SHIFT LEFT') \n",
    "    print('x << 1 \\t:' + str(x << 1)) \n",
    "    print('y << 1 \\t:' + str(y << 1))\n",
    "\n",
    "    print('\\nBitwise SHIFT RIGHT') \n",
    "    print('x >> 1 \\t:' + str(x >> 1)) \n",
    "    print('y >> 1 \\t:' + str(y >> 1))\n",
    "\n",
    "if __name__ == '__main__':\n",
    "    main()"
   ]
  },
  {
   "cell_type": "code",
   "execution_count": null,
   "id": "20012798-9521-4f2e-a59f-a0e6ebcb7e0b",
   "metadata": {},
   "outputs": [],
   "source": []
  }
 ],
 "metadata": {
  "kernelspec": {
   "display_name": "Python 3 (ipykernel)",
   "language": "python",
   "name": "python3"
  },
  "language_info": {
   "codemirror_mode": {
    "name": "ipython",
    "version": 3
   },
   "file_extension": ".py",
   "mimetype": "text/x-python",
   "name": "python",
   "nbconvert_exporter": "python",
   "pygments_lexer": "ipython3",
   "version": "3.13.5"
  }
 },
 "nbformat": 4,
 "nbformat_minor": 5
}
